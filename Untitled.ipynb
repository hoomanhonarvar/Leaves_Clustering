{
 "cells": [
  {
   "cell_type": "code",
   "execution_count": 28,
   "id": "167d6bb1-67df-42ec-943f-bd37f209c17f",
   "metadata": {},
   "outputs": [],
   "source": [
    "import os\n",
    "from sklearn import preprocessing\n",
    "from sklearn import manifold\n",
    "from sklearn import decomposition\n",
    "from sklearn import discriminant_analysis\n",
    "from scipy import optimize\n",
    "import matplotlib.pyplot as plt\n",
    "import pandas as pd\n",
    "from sklearn.cluster import KMeans\n",
    "from sklearn.model_selection import train_test_split\n",
    "from sklearn.metrics import confusion_matrix,accuracy_score\n",
    "from sklearn.tree import DecisionTreeClassifier    \n",
    "from sklearn.svm import SVC \n",
    "from sklearn.multiclass import OneVsRestClassifier\n",
    "from sklearn.neighbors import KNeighborsClassifier \n",
    "from sklearn.naive_bayes import GaussianNB "
   ]
  },
  {
   "cell_type": "code",
   "execution_count": 8,
   "id": "07c4eac7-0b93-4b41-afc6-1ce82ca8ff53",
   "metadata": {},
   "outputs": [],
   "source": [
    "df = pd.read_csv(\"leaves.csv\")\n",
    "X=df.drop(columns=df.columns[0])\n",
    "Y = df[df.columns[0]]\n",
    "scaler = preprocessing.MinMaxScaler()\n",
    "df[df.columns[1:]] = scaler.fit_transform(df[df.columns[1:]])\n"
   ]
  },
  {
   "cell_type": "code",
   "execution_count": 11,
   "id": "383981ba-a0b1-4160-b559-d206edee6ba1",
   "metadata": {},
   "outputs": [],
   "source": [
    "X_train, X_test, y_train, y_test = train_test_split(\n",
    "    X[:339], Y, test_size=0.3, random_state=42)"
   ]
  },
  {
   "cell_type": "code",
   "execution_count": 13,
   "id": "1302c8d7-da1a-48d2-87fd-f474e91ba429",
   "metadata": {},
   "outputs": [],
   "source": [
    "model = KMeans(n_clusters=36, random_state=42) \n",
    "leaves_Kmeans = model.fit(X_train)"
   ]
  },
  {
   "cell_type": "code",
   "execution_count": 15,
   "id": "95f64791-ee9d-440b-a5a8-adebffb86b8f",
   "metadata": {},
   "outputs": [
    {
     "data": {
      "text/plain": [
       "0.00980392156862745"
      ]
     },
     "execution_count": 15,
     "metadata": {},
     "output_type": "execute_result"
    }
   ],
   "source": [
    "accuracy_score(y_test, leaves_Kmeans.predict(X_test))"
   ]
  },
  {
   "cell_type": "code",
   "execution_count": 17,
   "id": "d487c42e-e6e9-4bec-8186-93400aaff274",
   "metadata": {},
   "outputs": [],
   "source": [
    "model = DecisionTreeClassifier()       \n",
    "model.fit(X_train, y_train)             \n",
    "y_pred = model.predict(X_test)\n"
   ]
  },
  {
   "cell_type": "code",
   "execution_count": 18,
   "id": "70720d0b-09c4-400e-b0fc-a7d62c471fc2",
   "metadata": {},
   "outputs": [
    {
     "data": {
      "text/plain": [
       "0.6078431372549019"
      ]
     },
     "execution_count": 18,
     "metadata": {},
     "output_type": "execute_result"
    }
   ],
   "source": [
    "accuracy_score(y_test, y_pred)"
   ]
  },
  {
   "cell_type": "code",
   "execution_count": 20,
   "id": "2348f846-1075-438e-9787-528fb6cbc735",
   "metadata": {},
   "outputs": [],
   "source": [
    "svm_model_linear = SVC(kernel = 'linear', C = 1).fit(X_train, y_train) \n",
    "svm_predictions = svm_model_linear.predict(X_test) "
   ]
  },
  {
   "cell_type": "code",
   "execution_count": 21,
   "id": "9c15c954-e827-4b49-a8d5-8c1ae0e31620",
   "metadata": {},
   "outputs": [
    {
     "data": {
      "text/plain": [
       "0.4411764705882353"
      ]
     },
     "execution_count": 21,
     "metadata": {},
     "output_type": "execute_result"
    }
   ],
   "source": [
    "accuracy_score(y_test, svm_predictions)"
   ]
  },
  {
   "cell_type": "code",
   "execution_count": 25,
   "id": "e18957e0-e0c0-4a85-b219-ec85086a7eea",
   "metadata": {},
   "outputs": [
    {
     "data": {
      "text/plain": [
       "0.1568627450980392"
      ]
     },
     "execution_count": 25,
     "metadata": {},
     "output_type": "execute_result"
    }
   ],
   "source": [
    "knn = KNeighborsClassifier(n_neighbors = 7).fit(X_train, y_train) \n",
    "accuracy = knn.score(X_test, y_test) \n",
    "accuracy"
   ]
  },
  {
   "cell_type": "code",
   "execution_count": 27,
   "id": "e6ae993d-75b6-409e-a9ec-226ec767992f",
   "metadata": {},
   "outputs": [
    {
     "data": {
      "text/plain": [
       "0.7450980392156863"
      ]
     },
     "execution_count": 27,
     "metadata": {},
     "output_type": "execute_result"
    }
   ],
   "source": [
    "gnb = GaussianNB().fit(X_train, y_train) \n",
    "gnb_predictions = gnb.predict(X_test) \n",
    "accuracy = gnb.score(X_test, y_test) \n",
    "accuracy"
   ]
  },
  {
   "cell_type": "code",
   "execution_count": 29,
   "id": "9acf0ccf-c432-43fd-a211-17ea50e26f33",
   "metadata": {},
   "outputs": [
    {
     "data": {
      "text/plain": [
       "0.4411764705882353"
      ]
     },
     "execution_count": 29,
     "metadata": {},
     "output_type": "execute_result"
    }
   ],
   "source": [
    "clf = OneVsRestClassifier(SVC()).fit(X_train, y_train)\n",
    "y_pred_clf=clf.predict(X_test)\n",
    "accuracy_score(y_test, y_pred)"
   ]
  },
  {
   "cell_type": "code",
   "execution_count": null,
   "id": "f1850588-1ae7-4499-8dc4-0ab3721917c6",
   "metadata": {},
   "outputs": [],
   "source": []
  }
 ],
 "metadata": {
  "kernelspec": {
   "display_name": "Python 3 (ipykernel)",
   "language": "python",
   "name": "python3"
  },
  "language_info": {
   "codemirror_mode": {
    "name": "ipython",
    "version": 3
   },
   "file_extension": ".py",
   "mimetype": "text/x-python",
   "name": "python",
   "nbconvert_exporter": "python",
   "pygments_lexer": "ipython3",
   "version": "3.12.0"
  }
 },
 "nbformat": 4,
 "nbformat_minor": 5
}
